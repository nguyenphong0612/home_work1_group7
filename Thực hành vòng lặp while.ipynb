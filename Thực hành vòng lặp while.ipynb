{
 "cells": [
  {
   "cell_type": "code",
   "execution_count": null,
   "id": "272a3a95",
   "metadata": {},
   "outputs": [],
   "source": [
    "'''\n",
    "Khởi động 1: Viết chương trình in ra tất cả các số chia hết cho cả 5 và 7 trong khoảng từ 1500 đến 2700\n",
    "'''"
   ]
  },
  {
   "cell_type": "code",
   "execution_count": null,
   "id": "18dbe371",
   "metadata": {},
   "outputs": [],
   "source": []
  },
  {
   "cell_type": "code",
   "execution_count": 1,
   "id": "87f74c6c",
   "metadata": {},
   "outputs": [
    {
     "name": "stdout",
     "output_type": "stream",
     "text": [
      "height = 5\n"
     ]
    },
    {
     "name": "stdout",
     "output_type": "stream",
     "text": [
      "*****\n",
      "****\n",
      "***\n",
      "**\n",
      "*\n"
     ]
    }
   ],
   "source": [
    "'''\n",
    "Bài 1: Viết chương trình nhập vào chiều cao tam giác vuông và in ra tam giác có hình dạng như sau:\n",
    "*****\n",
    "****\n",
    "***\n",
    "** \n",
    "*\n",
    "'''\n",
    "height = int(input(\"height =\"))\n",
    "i = 1\n",
    "while i <= height:\n",
    "    print('*' * (height + 1 - i))\n",
    "    i +=1"
   ]
  },
  {
   "cell_type": "code",
   "execution_count": 2,
   "id": "ea4c14a8",
   "metadata": {},
   "outputs": [
    {
     "name": "stdout",
     "output_type": "stream",
     "text": [
      "height = 3\n"
     ]
    },
    {
     "name": "stdout",
     "output_type": "stream",
     "text": [
      "***\n",
      "**\n",
      "*\n"
     ]
    }
   ],
   "source": [
    "'''\n",
    "Bài 2: Viết chương trình nhập vào chiều cao tam giác vuông và in ra tam giác có hình dạng như sau:\n",
    "* * * * * *\n",
    "* * * * *\n",
    "* * * *\n",
    "* * *\n",
    "* *\n",
    "*\n",
    "'''\n",
    "height = int(input(\"height =\"))\n",
    "i = height\n",
    "while i >= 1:\n",
    "    print('*' * (i))\n",
    "    i -=1"
   ]
  },
  {
   "cell_type": "code",
   "execution_count": null,
   "id": "bd17e085",
   "metadata": {},
   "outputs": [],
   "source": [
    "'''\n",
    "Bài 3: Viết chương trình nhập vào chiều cao tam giác vuông và in ra tam giác có hình dạng như sau:\n",
    "* - * - *\n",
    "* - * -\n",
    "* - *\n",
    "* -\n",
    "*\n",
    "'''"
   ]
  },
  {
   "cell_type": "code",
   "execution_count": 3,
   "id": "b2fb670e",
   "metadata": {},
   "outputs": [
    {
     "name": "stdout",
     "output_type": "stream",
     "text": [
      "* - * - * \n",
      "* - * - \n",
      "* - * \n",
      "* - \n",
      "* \n"
     ]
    }
   ],
   "source": [
    "h = int(input(\"input triangle height: \"))\n",
    "i = h\n",
    "j = 0\n",
    "while i>0:\n",
    "    i -= 1\n",
    "    for j in range(i+1):\n",
    "     \n",
    "        if j%2 == 0:\n",
    "            str_in = \"*\"\n",
    "        else:\n",
    "            str_in = \"-\"\n",
    "        print(str_in, end=\" \")\n",
    "    print()\n"
   ]
  },
  {
   "cell_type": "code",
   "execution_count": null,
   "id": "105b66bc",
   "metadata": {},
   "outputs": [],
   "source": [
    "'''\n",
    "Bài 4: Viết chương trình nhập vào một số nguyên n và in ra các số từ 1 đến n với các trường hợp ngoại lệ như sau:\n",
    "- Nếu số đó chia hết cho 3 thì in \"py\"\n",
    "- Nếu số đó chia hết cho 7 thì in \"thon\"\n",
    "- Nếu số đó chia hết cho cả 3 và 4 thì in \"python\"\n",
    "\n",
    "Ví dụ: n = 25\n",
    "1\n",
    "2\n",
    "py\n",
    "4\n",
    "5\n",
    "py\n",
    "thon\n",
    "8\n",
    "py\n",
    "10\n",
    "11\n",
    "py\n",
    "13\n",
    "thon\n",
    "py\n",
    "16\n",
    "17\n",
    "py\n",
    "19\n",
    "20\n",
    "python\n",
    "22\n",
    "23\n",
    "py\n",
    "25\n",
    "'''"
   ]
  },
  {
   "cell_type": "code",
   "execution_count": 1,
   "id": "e811c987",
   "metadata": {},
   "outputs": [
    {
     "name": "stdout",
     "output_type": "stream",
     "text": [
      "1\n",
      "2\n",
      "py\n",
      "4\n",
      "5\n",
      "py\n",
      "thon\n",
      "8\n",
      "py\n",
      "10\n",
      "11\n",
      "py\n",
      "13\n",
      "thon\n",
      "py\n",
      "16\n",
      "17\n",
      "py\n",
      "19\n",
      "20\n",
      "python\n",
      "22\n",
      "23\n",
      "py\n",
      "25\n",
      "26\n",
      "py\n",
      "thon\n",
      "29\n",
      "py\n",
      "31\n",
      "32\n",
      "py\n",
      "34\n",
      "thon\n",
      "py\n",
      "37\n",
      "38\n",
      "py\n",
      "40\n",
      "41\n",
      "python\n",
      "43\n",
      "44\n",
      "py\n",
      "46\n",
      "47\n",
      "py\n",
      "thon\n",
      "50\n",
      "py\n",
      "52\n",
      "53\n",
      "py\n",
      "55\n",
      "thon\n",
      "py\n",
      "58\n",
      "59\n",
      "py\n",
      "61\n",
      "62\n",
      "python\n",
      "64\n",
      "65\n",
      "py\n",
      "67\n",
      "68\n",
      "py\n",
      "thon\n",
      "71\n",
      "py\n",
      "73\n",
      "74\n",
      "py\n",
      "76\n",
      "thon\n",
      "py\n",
      "79\n",
      "80\n",
      "py\n",
      "82\n",
      "83\n",
      "python\n",
      "85\n",
      "86\n",
      "py\n",
      "88\n",
      "89\n",
      "py\n"
     ]
    }
   ],
   "source": [
    "n = int(input(\"Nhập vào một số nguyên n: \"))\n",
    "def print_special_numbers(n):\n",
    "    i = 1\n",
    "    while i <= n:\n",
    "        if i % 3 == 0 and i % 7 == 0:\n",
    "            print(\"python\")\n",
    "        elif i % 3 == 0:\n",
    "            print(\"py\")\n",
    "        elif i % 7 == 0:\n",
    "            print(\"thon\")\n",
    "        else:\n",
    "            print(i)\n",
    "        i += 1\n",
    "print_special_numbers(n)"
   ]
  },
  {
   "cell_type": "code",
   "execution_count": 4,
   "id": "3689744c",
   "metadata": {},
   "outputs": [
    {
     "name": "stdout",
     "output_type": "stream",
     "text": [
      "n =  4\n"
     ]
    }
   ],
   "source": [
    "'''\n",
    "Bài 5: Viết chương trình nhập vào một số và kiểm tra xem số đó có phải là số nguyên tố hay không\n",
    "Note: Số nguyên tố là số chỉ chia hết cho 1 và chính nó\n",
    "'''\n",
    "n = int(input(\"n = \"))\n",
    "if n < 2:\n",
    "    print(f\"{n} là số nguyên tố\")\n",
    "else:\n",
    "    while i<=n-1 and i > 2:\n",
    "        if n % i == 0:\n",
    "            print(f\"{n} không phải là số nguyên tố \")\n",
    "        else:\n",
    "            print(f\"{n}  là số nguyên tố \")\n",
    "    \n"
   ]
  },
  {
   "cell_type": "code",
   "execution_count": 3,
   "id": "d76fa311",
   "metadata": {},
   "outputs": [
    {
     "name": "stdout",
     "output_type": "stream",
     "text": [
      "Mời lựa chọn(1 - búa, 2 - kéo, 3 - bao): 1\n"
     ]
    },
    {
     "name": "stdout",
     "output_type": "stream",
     "text": [
      "Máy tính chọn: 3\n",
      "Người chơi thua.\n"
     ]
    },
    {
     "name": "stdout",
     "output_type": "stream",
     "text": [
      "Mời lựa chọn(1 - búa, 2 - kéo, 3 - bao): 2\n"
     ]
    },
    {
     "name": "stdout",
     "output_type": "stream",
     "text": [
      "Máy tính chọn: 3\n",
      "Người chơi thắng.\n"
     ]
    }
   ],
   "source": [
    "'''\n",
    "Bài 6: Viết chương trình mô phỏng trò chơi kéo búa bao theo luật chơi như sau:\n",
    "Quy ước: 1 - búa, 2 - kéo, 3 - bao\n",
    "Khi trò chơi bắt đầu, yêu cầu người chơi nhập 1 số từ bàn phím đại diện cho kéo, búa, bao\n",
    "Chương trình tự random ra một lựa chọn từ 1 đến 3.\n",
    "Nếu người chơi thua thì tiếp tục chơi cho đến khi thắng thì kết thúc chương trình.\n",
    "Ví dụ:\n",
    "\n",
    "Mời lựa chọn(1 - búa, 2 - kéo, 3 - bao): 1\n",
    "Máy tính chọn: 3\n",
    "Người chơi thua.\n",
    "\n",
    "Mời lựa chọn(1 - búa, 2 - kéo, 3 - bao): 2\n",
    "Máy tính chọn: 1\n",
    "Người chơi thua.\n",
    "\n",
    "Mời lựa chọn(1 - búa, 2 - kéo, 3 - bao): 1\n",
    "Máy tính chọn: 2\n",
    "Người chơi thắng.\n",
    "'''\n",
    "import random\n",
    "check = False\n",
    "\n",
    "while check == False:\n",
    "    player = int(input(\"Mời lựa chọn(1 - búa, 2 - kéo, 3 - bao):\"))\n",
    "    computer = random.randint(1, 3)\n",
    "    print(\"Máy tính chọn:\", computer)\n",
    "    if player == 1:\n",
    "        if computer == 2:\n",
    "            print(\"Người chơi thắng.\")\n",
    "            check = True\n",
    "        else:\n",
    "            print(\"Người chơi thua.\")\n",
    "    elif player == 2:\n",
    "        if computer == 3:\n",
    "            print(\"Người chơi thắng.\")\n",
    "            check = True\n",
    "        else:\n",
    "            print(\"Người chơi thua.\")\n",
    "    else:\n",
    "        if computer == 1:\n",
    "            print(\"Người chơi thắng.\")\n",
    "            check = True\n",
    "        else:\n",
    "            print(\"Người chơi thua.\")"
   ]
  },
  {
   "cell_type": "code",
   "execution_count": null,
   "id": "0d544d1f-800a-4239-a317-c7d427c0a925",
   "metadata": {},
   "outputs": [],
   "source": []
  }
 ],
 "metadata": {
  "kernelspec": {
   "display_name": "Python 3 (ipykernel)",
   "language": "python",
   "name": "python3"
  },
  "language_info": {
   "codemirror_mode": {
    "name": "ipython",
    "version": 3
   },
   "file_extension": ".py",
   "mimetype": "text/x-python",
   "name": "python",
   "nbconvert_exporter": "python",
   "pygments_lexer": "ipython3",
   "version": "3.12.3"
  }
 },
 "nbformat": 4,
 "nbformat_minor": 5
}
